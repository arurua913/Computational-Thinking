{
  "nbformat": 4,
  "nbformat_minor": 0,
  "metadata": {
    "colab": {
      "name": "王心如 week-14ipynb",
      "provenance": [],
      "authorship_tag": "ABX9TyP/LFFx3wc2X1WixKeoG7pr",
      "include_colab_link": true
    },
    "kernelspec": {
      "name": "python3",
      "display_name": "Python 3"
    }
  },
  "cells": [
    {
      "cell_type": "markdown",
      "metadata": {
        "id": "view-in-github",
        "colab_type": "text"
      },
      "source": [
        "<a href=\"https://colab.research.google.com/github/arurua913/Computational-Thinking/blob/master/%E7%8E%8B%E5%BF%83%E5%A6%82_week_14ipynb.ipynb\" target=\"_parent\"><img src=\"https://colab.research.google.com/assets/colab-badge.svg\" alt=\"Open In Colab\"/></a>"
      ]
    },
    {
      "cell_type": "code",
      "metadata": {
        "id": "I-oBeMwpuDV7"
      },
      "source": [
        "start=int(intput('請輸入加總開始值?'))\r\n",
        "end=int(intput('請輸入加總終止值'?))\r\n",
        "step=int(intput('請輸入遞增減值'?))\r\n",
        "                                                                                                     \r\n",
        "sum=0\r\n",
        "for i in range(start，end，step):\r\n",
        "  sum=sum+i\r\n",
        "  print('i為'，i，'時，累加結果為'，sum)  "
      ],
      "execution_count": null,
      "outputs": []
    }
  ]
}