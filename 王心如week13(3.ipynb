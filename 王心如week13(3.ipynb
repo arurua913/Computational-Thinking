{
  "nbformat": 4,
  "nbformat_minor": 0,
  "metadata": {
    "colab": {
      "name": "王心如week13(3.ipynb",
      "provenance": [],
      "authorship_tag": "ABX9TyNnfy0sT5A0gZRuuNYRnvOn",
      "include_colab_link": true
    },
    "kernelspec": {
      "name": "python3",
      "display_name": "Python 3"
    }
  },
  "cells": [
    {
      "cell_type": "markdown",
      "metadata": {
        "id": "view-in-github",
        "colab_type": "text"
      },
      "source": [
        "<a href=\"https://colab.research.google.com/github/arurua913/Computational-Thinking/blob/master/%E7%8E%8B%E5%BF%83%E5%A6%82week13(3.ipynb\" target=\"_parent\"><img src=\"https://colab.research.google.com/assets/colab-badge.svg\" alt=\"Open In Colab\"/></a>"
      ]
    },
    {
      "cell_type": "code",
      "metadata": {
        "id": "x7_JMT178O01"
      },
      "source": [
        "sum=0\n",
        "for i in range(2，11，2)\n",
        "     sum=sum+i\n",
        "print(\"total is\"，sum)\n"
      ],
      "execution_count": null,
      "outputs": []
    }
  ]
}