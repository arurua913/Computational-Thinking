{
  "nbformat": 4,
  "nbformat_minor": 0,
  "metadata": {
    "colab": {
      "name": "王心如week14(2.ipynb",
      "provenance": [],
      "authorship_tag": "ABX9TyORk5dcaC5cVa7OeoQmGLz8",
      "include_colab_link": true
    },
    "kernelspec": {
      "name": "python3",
      "display_name": "Python 3"
    }
  },
  "cells": [
    {
      "cell_type": "markdown",
      "metadata": {
        "id": "view-in-github",
        "colab_type": "text"
      },
      "source": [
        "<a href=\"https://colab.research.google.com/github/arurua913/Computational-Thinking/blob/master/%E7%8E%8B%E5%BF%83%E5%A6%82week14(2.ipynb\" target=\"_parent\"><img src=\"https://colab.research.google.com/assets/colab-badge.svg\" alt=\"Open In Colab\"/></a>"
      ]
    },
    {
      "cell_type": "code",
      "metadata": {
        "id": "3rVBrcf-0snt"
      },
      "source": [
        "sheet=['牛奶'，'蛋'，'咖啡豆']\r\n",
        "for index in [0，1，2]\r\n",
        "    print(index)\r\n",
        "\r\n",
        "sheet=['牛奶'，'蛋'，'咖啡豆']\r\n",
        "for index in sheet:\r\n",
        "   print(index)\r\n",
        "\r\n",
        "sheet=['牛奶'，'蛋'，'咖啡豆']\r\n",
        "for index in [0，1，2]\r\n",
        "   print(index，sheet[index])\r\n",
        "\r\n"
      ],
      "execution_count": null,
      "outputs": []
    }
  ]
}