{
  "nbformat": 4,
  "nbformat_minor": 0,
  "metadata": {
    "colab": {
      "name": "王心如=week.12.ipynb",
      "provenance": [],
      "authorship_tag": "ABX9TyPZot9xPdVE+fcjVMyWf00p",
      "include_colab_link": true
    },
    "kernelspec": {
      "name": "python3",
      "display_name": "Python 3"
    }
  },
  "cells": [
    {
      "cell_type": "markdown",
      "metadata": {
        "id": "view-in-github",
        "colab_type": "text"
      },
      "source": [
        "<a href=\"https://colab.research.google.com/github/arurua913/Computational-Thinking/blob/master/%E7%8E%8B%E5%BF%83%E5%A6%82%3Dweek_12.ipynb\" target=\"_parent\"><img src=\"https://colab.research.google.com/assets/colab-badge.svg\" alt=\"Open In Colab\"/></a>"
      ]
    },
    {
      "cell_type": "code",
      "metadata": {
        "id": "tIGHtyaAxQP6"
      },
      "source": [
        "shoplist=['柳丁'，'巧克力，'，'牛奶'，'包包'，'男朋友']\n",
        "print(shoplist)\n",
        "\n",
        "list1=list('python')\n",
        "print(list1)"
      ],
      "execution_count": null,
      "outputs": []
    }
  ]
}