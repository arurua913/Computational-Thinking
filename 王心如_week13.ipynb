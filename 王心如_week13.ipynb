{
  "nbformat": 4,
  "nbformat_minor": 0,
  "metadata": {
    "colab": {
      "name": "王心如-week13.ipynb",
      "provenance": [],
      "authorship_tag": "ABX9TyMZm8x0zPcaCLfIZdRNL/Zo",
      "include_colab_link": true
    },
    "kernelspec": {
      "name": "python3",
      "display_name": "Python 3"
    }
  },
  "cells": [
    {
      "cell_type": "markdown",
      "metadata": {
        "id": "view-in-github",
        "colab_type": "text"
      },
      "source": [
        "<a href=\"https://colab.research.google.com/github/arurua913/Computational-Thinking/blob/master/%E7%8E%8B%E5%BF%83%E5%A6%82_week13.ipynb\" target=\"_parent\"><img src=\"https://colab.research.google.com/assets/colab-badge.svg\" alt=\"Open In Colab\"/></a>"
      ]
    },
    {
      "cell_type": "code",
      "metadata": {
        "id": "PynK3Fr8tIky"
      },
      "source": [
        "list1=[0,1,2,3,4,5,6,7,8,9]\n",
        "list2= range(0,10,1)\n",
        "list1=[0,2,4,6,8]\n",
        "list2= range(0,10,2)\n",
        "list1=[5,7,9]\n",
        "list2= range(5,11,2)\n",
        "list1=[0,-1,-2,-3,-4,-5,-6,-7,-8,-9]\n",
        "list2= range(0,-10,-1)"
      ],
      "execution_count": 15,
      "outputs": []
    }
  ]
}