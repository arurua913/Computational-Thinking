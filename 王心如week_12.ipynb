{
  "nbformat": 4,
  "nbformat_minor": 0,
  "metadata": {
    "colab": {
      "name": "王心如week.12.ipynb",
      "provenance": [],
      "collapsed_sections": [],
      "authorship_tag": "ABX9TyOpDoQzJQ+bTQWnsBZow9vG",
      "include_colab_link": true
    },
    "kernelspec": {
      "name": "python3",
      "display_name": "Python 3"
    }
  },
  "cells": [
    {
      "cell_type": "markdown",
      "metadata": {
        "id": "view-in-github",
        "colab_type": "text"
      },
      "source": [
        "<a href=\"https://colab.research.google.com/github/arurua913/Computational-Thinking/blob/master/%E7%8E%8B%E5%BF%83%E5%A6%82week_12.ipynb\" target=\"_parent\"><img src=\"https://colab.research.google.com/assets/colab-badge.svg\" alt=\"Open In Colab\"/></a>"
      ]
    },
    {
      "cell_type": "code",
      "metadata": {
        "id": "jY6L9dOPn3Hb"
      },
      "source": [
        "hello1=\"Hello World!\"\n",
        "hello2=\"Hello Python\"\n",
        "hello3=\"Shaquile 0 'Neil\"\n",
        "\n",
        "s1=\"123\"\n",
        "s2=\"456\"\n",
        "s3=s1+s2\n",
        "print(s3)\n",
        "s4=s1*2\n",
        "print(s4)\n",
        "\n",
        "s1='An apple a day.'\n",
        "s1.capitalize()\n",
        "s1.title()\n",
        "s1.swapcase()\n",
        "s1.upper()\n",
        "s1.lower()\n",
        "\n",
        "class(numberlist)"
      ],
      "execution_count": null,
      "outputs": []
    }
  ]
}