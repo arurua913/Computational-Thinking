{
  "nbformat": 4,
  "nbformat_minor": 0,
  "metadata": {
    "colab": {
      "name": "王心如-week11.ipynb",
      "provenance": [],
      "collapsed_sections": [],
      "authorship_tag": "ABX9TyOYqQ2VUyyJ7nk0KeWFETeT",
      "include_colab_link": true
    },
    "kernelspec": {
      "name": "python3",
      "display_name": "Python 3"
    }
  },
  "cells": [
    {
      "cell_type": "markdown",
      "metadata": {
        "id": "view-in-github",
        "colab_type": "text"
      },
      "source": [
        "<a href=\"https://colab.research.google.com/github/arurua913/Computational-Thinking/blob/master/%E7%8E%8B%E5%BF%83%E5%A6%82_week11.ipynb\" target=\"_parent\"><img src=\"https://colab.research.google.com/assets/colab-badge.svg\" alt=\"Open In Colab\"/></a>"
      ]
    },
    {
      "cell_type": "code",
      "metadata": {
        "id": "DyCOcZMzoMAA"
      },
      "source": [
        "1# 方法(一):商數\n",
        "2## input\n",
        "3 number = input(\"Enter your seat number?\")\n",
        "4 number = int(number)\n",
        "5 ## Process\n",
        "6group=(number-1)//5+1\n",
        "7## Output\n",
        "8print(\"Group is\" group)"
      ],
      "execution_count": null,
      "outputs": []
    }
  ]
}