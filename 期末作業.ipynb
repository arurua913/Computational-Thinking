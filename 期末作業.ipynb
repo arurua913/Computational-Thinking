{
  "nbformat": 4,
  "nbformat_minor": 0,
  "metadata": {
    "colab": {
      "name": "期末作業.ipynb",
      "provenance": [],
      "collapsed_sections": [],
      "include_colab_link": true
    },
    "kernelspec": {
      "display_name": "Python 3",
      "name": "python3"
    }
  },
  "cells": [
    {
      "cell_type": "markdown",
      "metadata": {
        "id": "view-in-github",
        "colab_type": "text"
      },
      "source": [
        "<a href=\"https://colab.research.google.com/github/arurua913/Computational-Thinking/blob/master/%E6%9C%9F%E6%9C%AB%E4%BD%9C%E6%A5%AD.ipynb\" target=\"_parent\"><img src=\"https://colab.research.google.com/assets/colab-badge.svg\" alt=\"Open In Colab\"/></a>"
      ]
    },
    {
      "cell_type": "markdown",
      "metadata": {
        "id": "NBT-4pFd1wsL"
      },
      "source": [
        "組員名單：經濟一乙A109260076王心如（第二段程式）/資傳四甲A106070272呂欣恩（第ㄧ、三段程式）/經濟延一A105260027黃奕昕（第四段程式）/經濟三甲A107260029吳泓毅（第五段程式）/經濟一乙A109260102林龍億（第六段程式）"
      ]
    },
    {
      "cell_type": "markdown",
      "metadata": {
        "id": "SrlosDfB1xvm"
      },
      "source": [
        "分工內容：一人發想一個對話機器人主題，投票選出最合適的後，分工一人一段腳本及程式碼"
      ]
    },
    {
      "cell_type": "markdown",
      "metadata": {
        "id": "tUaCMEAm16lN"
      },
      "source": [
        "專題腳本：第一段開頭/第二段詢問約會穿搭/第三段詢問約會餐廳/第四段詢問約會電影/第五段詢問賣場周邊停車服務/第六段詢問滿意度調查"
      ]
    },
    {
      "cell_type": "markdown",
      "metadata": {
        "id": "NOhV7-rM3ZAJ"
      },
      "source": [
        "「賣場客服機器人」："
      ]
    },
    {
      "cell_type": "code",
      "metadata": {
        "colab": {
          "base_uri": "https://localhost:8080/"
        },
        "id": "o7UMCcCA9r6e",
        "outputId": "f89a9027-e6d2-49eb-b2d6-01694a93b64a"
      },
      "source": [
        "print(about_me)\n",
        "name=input(\"嗨!妳好,請問大名?:\")\n",
        "print(\"我叫\",name)print(\"哈囉,大家好。我叫馴鹿,是本百貨的賣場客服機器人。\")\n",
        "about_me=\"任何賣場相關的疑問都可以直接詢問我唷！若有購物困難時，這邊也可以為您打造一套最適合您的購物推薦清單\"\n",
        "\n",
        "print(\"你好\",name,\"很高興認識你\")"
      ],
      "execution_count": null,
      "outputs": [
        {
          "output_type": "stream",
          "text": [
            "哈囉,大家好。我叫馴鹿,是本百貨的賣場客服機器人。\n",
            "任何賣場相關的疑問都可以直接詢問我唷！若有購物困難時，這邊也可以為您打造一套最適合您的購物推薦清單\n",
            "嗨!妳好,請問大名?:小傑\n",
            "我叫 小傑\n",
            "你好 小傑 很高興認識你\n"
          ],
          "name": "stdout"
        }
      ]
    },
    {
      "cell_type": "code",
      "metadata": {
        "id": "HBtAp2J53fiE",
        "colab": {
          "base_uri": "https://localhost:8080/"
        },
        "outputId": "2d966536-93ca-44ad-f26f-659a2c4840af"
      },
      "source": [
        "print(\"[情人節要到了，\"+name+\"想買套好看的衣服去約會]\")\n",
        "print(name+\"{客服您好，我想要詢問商品。}\")\n",
        "print(\"客服:{敬愛的顧客您好請問您需要什麼服務?}\")\n",
        "service = input(\"您需要的服務\")\n",
        "print(\"我要\",service,\"。\")\n",
        "print(\"客服:{好的，請提供年齡和想要的風格}\")\n",
        "age = input(\"你現在的年齡\")\n",
        "style = input(\"你想要的風格\")\n",
        "print(\"我的\",age,\"我想要的\",style,\"。\")\n",
        "print(\"客服:{顧客您好，這裡是\",style,\"的所有搜尋結果，請輸入產品編號，我將為您查是否還有現貨}\")\n",
        "number = input(\"產品編號\")\n",
        "print(name+\"輸入\",number,\"請問這個有現貨嗎?\")\n",
        "ans1 = float(input(\"有=9/沒有=0\"))\n",
        "if ans1 == 9:\n",
        "    print(\"客服:{請問顧客需要下單嗎?}\")\n",
        "    print(name+\":{要}\")\n",
        "    print(\"已完成訂單\")\n",
        "elif ans1 == 0:\n",
        "    print(\"客服:{不好意思}\")\n",
        "    print(name+\":{那我繼續尋找}\")"
      ],
      "execution_count": null,
      "outputs": [
        {
          "output_type": "stream",
          "text": [
            "[情人節要到了，小傑想買套好看的衣服去約會]\n",
            "小傑{客服您好，我想要詢問商品。}\n",
            "客服:{敬愛的顧客您好請問您需要什麼服務?}\n",
            "您需要的服務買衣服\n",
            "我要 買衣服 。\n",
            "客服:{好的，請提供年齡和想要的風格}\n",
            "你現在的年齡19\n",
            "你想要的風格個性\n",
            "我的 19 我想要的 個性 。\n",
            "客服:{顧客您好，這裡是 個性 的所有搜尋結果，請輸入產品編號，我將為您查是否還有現貨}\n",
            "產品編號999\n",
            "小傑輸入 999 請問這個有現貨嗎?\n",
            "有=9/沒有=09\n",
            "客服:{請問顧客需要下單嗎?}\n",
            "小傑:{要}\n",
            "已完成訂單\n"
          ],
          "name": "stdout"
        }
      ]
    },
    {
      "cell_type": "code",
      "metadata": {
        "id": "i-aQ3Gzm3k-o",
        "colab": {
          "base_uri": "https://localhost:8080/"
        },
        "outputId": "596b9f28-81bb-4138-9338-05797ffd1cc9"
      },
      "source": [
        "afternoonteatop5 = [\"為您推薦本月下午茶時段的前五名餐廳：\"+\"Smith&Hsu\", \"Aunt Stella\", \"Sarabeth's\", \"古典玫瑰園\", \"自由溫室\"+\"，很高興為您服務，謝謝。\"]\n",
        "choice = True\n",
        "dinnertop5 = [\"為您推薦本月晚餐時段的前五名餐廳：\"+\"Texas Roadhouse\", \"好米亞\", \"Thai J\", \"驢子餐酒館\", \"初魚\"+\"，很高興為您服務，謝謝。\"]\n",
        "choice = True\n",
        "\n",
        "print(\"選好新衣服準備光鮮亮麗登場了嗎！\")\n",
        "print(\"是否要再為您推薦約會餐廳呢？ \")\n",
        "answer=input(\"是或否\")\n",
        "if answer == \"是\":\n",
        "  print(\"您想要下午茶還是晚餐時段的餐廳呢？\")\n",
        "  choice=input(\"下午茶或晚餐\")\n",
        "  print(\"我也喜歡\",choice)\n",
        "  if choice == \"下午茶\":\n",
        "    print(afternoonteatop5)\n",
        "  if choice == \"晚餐\":\n",
        "    print(dinnertop5)\n",
        "else:\n",
        " print (\"好的，不如來場浪漫的電影時光吧！\")"
      ],
      "execution_count": null,
      "outputs": [
        {
          "output_type": "stream",
          "text": [
            "選好新衣服準備光鮮亮麗登場了嗎！\n",
            "是否要再為您推薦約會餐廳呢？ \n",
            "是或否是\n",
            "您想要下午茶還是晚餐時段的餐廳呢？\n",
            "下午茶或晚餐下午茶\n",
            "我也喜歡 下午茶\n",
            "['為您推薦本月下午茶時段的前五名餐廳：Smith&Hsu', 'Aunt Stella', \"Sarabeth's\", '古典玫瑰園', '自由溫室，很高興為您服務，謝謝。']\n"
          ],
          "name": "stdout"
        }
      ]
    },
    {
      "cell_type": "code",
      "metadata": {
        "id": "8qy_Wbvd3mR-",
        "colab": {
          "base_uri": "https://localhost:8080/"
        },
        "outputId": "419723cf-a7b1-40fc-b220-90ba19745467"
      },
      "source": [
        "option = (\"今晚電影有：\"+\"多拉a夢\", \"神奇寶貝\")\r\n",
        " \r\n",
        "print(\"請問要看哪一部呢??\")\r\n",
        "answer=input(\"多拉a夢或神奇寶貝\")\r\n",
        "if  answer == \"多拉a夢\" :\r\n",
        "        print(\"您要看7點還是8點場次呢?\")\r\n",
        "        choice=input(\"7點或8點\")\r\n",
        "if  answer == \"神奇寶貝\" :\r\n",
        "        print(\"您要看7點還是8點場次呢?\")\r\n",
        "        choice=input(\"7點或8點\")\r\n",
        "print(\"祝您觀賞愉快\")"
      ],
      "execution_count": null,
      "outputs": [
        {
          "output_type": "stream",
          "text": [
            "請問要看哪一部呢??\n",
            "多拉a夢或神奇寶貝多拉a夢\n",
            "您要看7點還是8點場次呢?\n",
            "7點或8點7點\n",
            "祝您觀賞愉快\n"
          ],
          "name": "stdout"
        }
      ]
    },
    {
      "cell_type": "code",
      "metadata": {
        "colab": {
          "base_uri": "https://localhost:8080/"
        },
        "id": "ONhDACZ_3nhh",
        "outputId": "897bf375-d843-47e3-851a-ee17fa5e7703"
      },
      "source": [
        "\n",
        "option = (\"本商場停車場有：\"+\"地下停車場\", \"露天停車場\")\n",
        "\n",
        "print(\"今天是開車來的嗎?\")\n",
        "answer=input(\"是或否\")\n",
        "if answer == \"是\":\n",
        "    print(\"您想要停哪個停車場呢？\")\n",
        "    print(option)\n",
        "    choice=input(\"地下停車場或露天停車場\")\n",
        "    print(\"是否需要代客停車呢？\")\n",
        "    answer=input(\"是或否\")\n",
        "    if answer == \"是\":\n",
        "      print(\"請把鑰匙留給我們就好,請您慢慢逛\")\n",
        "    if answer == \"否\":\n",
        "      print (\"好的，祝您有個愉快的時光！\")\n",
        "else:\n",
        "    print (\"好的，祝您有個愉快的時光！\")\n"
      ],
      "execution_count": null,
      "outputs": [
        {
          "output_type": "stream",
          "text": [
            "今天是開車來的嗎?\n",
            "是或否是\n",
            "您想要停哪個停車場呢？\n",
            "('本商場停車場有：地下停車場', '露天停車場')\n",
            "地下停車場或露天停車場地下停車場\n",
            "是否需要代客停車呢？\n",
            "是或否否\n",
            "好的，祝您有個愉快的時光！\n"
          ],
          "name": "stdout"
        }
      ]
    },
    {
      "cell_type": "code",
      "metadata": {
        "colab": {
          "base_uri": "https://localhost:8080/"
        },
        "id": "rCM8uA8Z3pS9",
        "outputId": "a56f107d-80bb-4a96-f956-bda2aefce3e4"
      },
      "source": [
        "print(\"請問是否願意填寫滿意度調查\")\n",
        "answer=input(\"是或否\")\n",
        "if answer == \"否\":\n",
        "  print(\"感謝您的來訪，歡迎下次與你在會\")\n",
        "else:\n",
        "  print(\"請問在詢問約會穿搭方面的服務您的滿意度是?\")\n",
        "  print(\"1=滿意，2=不滿意，3=沒意見\")\n",
        "  answer1=input(\"滿意，不滿意或沒意見\")\n",
        "  print(\"請問在詢問約會餐廳方面的服務您的滿意度是?\")\n",
        "  answer2=input(\"滿意，不滿意或沒意見\")\n",
        "  print(\"請問在詢問約會電影方面的服務您的滿意度是?\")\n",
        "  answer3=input(\"滿意，不滿意或沒意見\")\n",
        "  print(\"請問在詢問賣場周邊停車服務方面的服務您的滿意度是?\")\n",
        "  answer4=input(\"滿意，不滿意或沒意見\")\n",
        "  print(\"請問您的問題是否解決了\")\n",
        "  answer5=input(\"1=對，2=大部分，3=小部分，4=沒(爛死了)\")\n",
        "  print(\"請問您對馴鹿整體的滿意度評分是?\")\n",
        "  answer6=input(\"1分-5分\")\n",
        "  if answer6 == \"5\" or answer6 == \"4\":\n",
        "    print(\"感謝您的支持，期待下次與你在會(*´∀`)~♥\")\n",
        "  if answer6 == \"3\":\n",
        "    print(\"感謝您的支持，我們會繼續加強服務的，期待下次與你在會\")\n",
        "  if answer6 == \"2\" or answer6 == \"1\":\n",
        "    input(\"請問你不滿意的方面在於:?\")\n",
        "    print(\"不好意思，我們會吸收批評改進的，期待下次讓你滿意\")"
      ],
      "execution_count": null,
      "outputs": [
        {
          "output_type": "stream",
          "text": [
            "請問是否願意填寫滿意度調查\n",
            "是或否是\n",
            "請問在詢問約會穿搭方面的服務您的滿意度是?\n",
            "1=滿意，2=不滿意，3=沒意見\n",
            "滿意，不滿意或沒意見1\n",
            "請問在詢問約會餐廳方面的服務您的滿意度是?\n",
            "滿意，不滿意或沒意見滿意\n",
            "請問在詢問約會電影方面的服務您的滿意度是?\n",
            "滿意，不滿意或沒意見滿意\n",
            "請問在詢問賣場周邊停車服務方面的服務您的滿意度是?\n",
            "滿意，不滿意或沒意見滿意\n",
            "請問您的問題是否解決了\n",
            "1=對，2=大部分，3=小部分，4=沒(爛死了)2\n",
            "請問您對馴鹿整體的滿意度評分是?\n",
            "1分-5分5\n",
            "感謝您的支持，期待下次與你在會(*´∀`)~♥\n"
          ],
          "name": "stdout"
        }
      ]
    }
  ]
}