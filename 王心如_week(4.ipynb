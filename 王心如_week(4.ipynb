{
  "nbformat": 4,
  "nbformat_minor": 0,
  "metadata": {
    "colab": {
      "name": "王心如-week(4.ipynb",
      "provenance": [],
      "authorship_tag": "ABX9TyNM/kIAaV/cF6SCeX3XuE6a",
      "include_colab_link": true
    },
    "kernelspec": {
      "name": "python3",
      "display_name": "Python 3"
    }
  },
  "cells": [
    {
      "cell_type": "markdown",
      "metadata": {
        "id": "view-in-github",
        "colab_type": "text"
      },
      "source": [
        "<a href=\"https://colab.research.google.com/github/arurua913/Computational-Thinking/blob/master/%E7%8E%8B%E5%BF%83%E5%A6%82_week(4.ipynb\" target=\"_parent\"><img src=\"https://colab.research.google.com/assets/colab-badge.svg\" alt=\"Open In Colab\"/></a>"
      ]
    },
    {
      "cell_type": "code",
      "metadata": {
        "id": "cmBbpW6B9Hqz"
      },
      "source": [
        "sum=0\n",
        "for i in range(3，13，3)\n",
        "    sum=sum+i\n",
        "print(\"Total is\"，sum)"
      ],
      "execution_count": null,
      "outputs": []
    }
  ]
}